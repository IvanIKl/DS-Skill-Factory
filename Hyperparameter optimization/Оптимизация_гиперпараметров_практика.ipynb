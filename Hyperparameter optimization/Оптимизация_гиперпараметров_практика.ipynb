{
 "cells": [
  {
   "cell_type": "markdown",
   "metadata": {},
   "source": [
    "## ОПТИМИЗАЦИЯ ГИПЕРПАРАМЕТРОВ МОДЕЛИ (ПРАКТИКА)"
   ]
  },
  {
   "cell_type": "markdown",
   "metadata": {},
   "source": [
    "### ОПИСАНИЕ ЗАДАЧИ"
   ]
  },
  {
   "cell_type": "markdown",
   "metadata": {},
   "source": [
    "Практика основана на соревновании [Kaggle: Predicting a Biological Response](https://www.kaggle.com/c/bioresponse) (Прогнозирование биологического ответа)."
   ]
  },
  {
   "cell_type": "markdown",
   "metadata": {},
   "source": [
    "**ЦЕЛЬ**: Необходимо предсказать биологический ответ молекул (столбец 'Activity') по их химическому составу (столбцы D1-D1776).  \n",
    "\n",
    "**ОПИСАНИЕ ДАННЫХ**: Данные представлены в формате CSV.  Каждая строка представляет молекулу.  \n",
    "Первый столбец Activity содержит экспериментальные данные, описывающие фактический биологический ответ [0, 1];  \n",
    "Остальные столбцы D1-D1776 представляют собой молекулярные дескрипторы — это вычисляемые свойства, которые могут фиксировать некоторые характеристики молекулы, например размер, форму или состав элементов.  \n",
    "Предварительная обработка не требуется, данные уже закодированы и нормализованы.\n",
    "\n",
    "**ЧТО НАДО СДЕЛАТЬ**: Необходимо обучить две модели: логистическую регрессию и случайный лес. Далее нужно сделать подбор гиперпараметров с помощью базовых и продвинутых методов оптимизации. Важно использовать все четыре метода (GridSeachCV, RandomizedSearchCV, Hyperopt, Optuna) хотя бы по разу, максимальное количество итераций не должно превышать 50.  \n",
    "\n",
    "**МЕТРИКА**: F1-score\n",
    "\n",
    "****"
   ]
  },
  {
   "cell_type": "markdown",
   "metadata": {},
   "source": [
    "1. ИМПОРТ БИБЛИОТЕК"
   ]
  },
  {
   "cell_type": "code",
   "execution_count": 1,
   "metadata": {},
   "outputs": [],
   "source": [
    "import pandas as pd #для анализа и предобработки данных\n",
    "import numpy as np #для матричных вычислений\n",
    "import matplotlib.pyplot as plt #для визуализации\n",
    "import seaborn as sns #для визуализации\n",
    "\n",
    "from sklearn import linear_model #линейные модели (для логистической регрессии)\n",
    "from sklearn import ensemble #ансамбли (для случайного леса)\n",
    "from sklearn import metrics #метрики\n",
    "from sklearn.model_selection import train_test_split #разделение выборки выборки\n",
    "from sklearn.model_selection import cross_val_score # для оценки кросс валидации\n",
    "\n",
    "from sklearn.model_selection import GridSearchCV # оптимизатор\n",
    "from sklearn.model_selection import RandomizedSearchCV # оптимизатор\n",
    "import hyperopt # оптимизатор \n",
    "from hyperopt import hp, fmin, tpe, Trials, space_eval # необходимые для hyperplot функции\n",
    "import optuna # оптимизатор\n",
    "\n",
    "import warnings\n",
    "warnings.filterwarnings(\"ignore\")"
   ]
  },
  {
   "cell_type": "markdown",
   "metadata": {},
   "source": [
    "2. ЧТЕНИЕ ДАННЫХ И ПРЕДОБРАБОТКА"
   ]
  },
  {
   "cell_type": "code",
   "execution_count": 2,
   "metadata": {},
   "outputs": [
    {
     "data": {
      "text/html": [
       "<div>\n",
       "<style scoped>\n",
       "    .dataframe tbody tr th:only-of-type {\n",
       "        vertical-align: middle;\n",
       "    }\n",
       "\n",
       "    .dataframe tbody tr th {\n",
       "        vertical-align: top;\n",
       "    }\n",
       "\n",
       "    .dataframe thead th {\n",
       "        text-align: right;\n",
       "    }\n",
       "</style>\n",
       "<table border=\"1\" class=\"dataframe\">\n",
       "  <thead>\n",
       "    <tr style=\"text-align: right;\">\n",
       "      <th></th>\n",
       "      <th>Activity</th>\n",
       "      <th>D1</th>\n",
       "      <th>D2</th>\n",
       "      <th>D3</th>\n",
       "      <th>D4</th>\n",
       "      <th>D5</th>\n",
       "      <th>D6</th>\n",
       "      <th>D7</th>\n",
       "      <th>D8</th>\n",
       "      <th>D9</th>\n",
       "      <th>...</th>\n",
       "      <th>D1767</th>\n",
       "      <th>D1768</th>\n",
       "      <th>D1769</th>\n",
       "      <th>D1770</th>\n",
       "      <th>D1771</th>\n",
       "      <th>D1772</th>\n",
       "      <th>D1773</th>\n",
       "      <th>D1774</th>\n",
       "      <th>D1775</th>\n",
       "      <th>D1776</th>\n",
       "    </tr>\n",
       "  </thead>\n",
       "  <tbody>\n",
       "    <tr>\n",
       "      <th>0</th>\n",
       "      <td>1</td>\n",
       "      <td>0.000000</td>\n",
       "      <td>0.497009</td>\n",
       "      <td>0.10</td>\n",
       "      <td>0.0</td>\n",
       "      <td>0.132956</td>\n",
       "      <td>0.678031</td>\n",
       "      <td>0.273166</td>\n",
       "      <td>0.585445</td>\n",
       "      <td>0.743663</td>\n",
       "      <td>...</td>\n",
       "      <td>0</td>\n",
       "      <td>0</td>\n",
       "      <td>0</td>\n",
       "      <td>0</td>\n",
       "      <td>0</td>\n",
       "      <td>0</td>\n",
       "      <td>0</td>\n",
       "      <td>0</td>\n",
       "      <td>0</td>\n",
       "      <td>0</td>\n",
       "    </tr>\n",
       "    <tr>\n",
       "      <th>1</th>\n",
       "      <td>1</td>\n",
       "      <td>0.366667</td>\n",
       "      <td>0.606291</td>\n",
       "      <td>0.05</td>\n",
       "      <td>0.0</td>\n",
       "      <td>0.111209</td>\n",
       "      <td>0.803455</td>\n",
       "      <td>0.106105</td>\n",
       "      <td>0.411754</td>\n",
       "      <td>0.836582</td>\n",
       "      <td>...</td>\n",
       "      <td>1</td>\n",
       "      <td>1</td>\n",
       "      <td>1</td>\n",
       "      <td>1</td>\n",
       "      <td>0</td>\n",
       "      <td>1</td>\n",
       "      <td>0</td>\n",
       "      <td>0</td>\n",
       "      <td>1</td>\n",
       "      <td>0</td>\n",
       "    </tr>\n",
       "    <tr>\n",
       "      <th>2</th>\n",
       "      <td>1</td>\n",
       "      <td>0.033300</td>\n",
       "      <td>0.480124</td>\n",
       "      <td>0.00</td>\n",
       "      <td>0.0</td>\n",
       "      <td>0.209791</td>\n",
       "      <td>0.610350</td>\n",
       "      <td>0.356453</td>\n",
       "      <td>0.517720</td>\n",
       "      <td>0.679051</td>\n",
       "      <td>...</td>\n",
       "      <td>0</td>\n",
       "      <td>0</td>\n",
       "      <td>0</td>\n",
       "      <td>0</td>\n",
       "      <td>0</td>\n",
       "      <td>0</td>\n",
       "      <td>0</td>\n",
       "      <td>0</td>\n",
       "      <td>0</td>\n",
       "      <td>0</td>\n",
       "    </tr>\n",
       "    <tr>\n",
       "      <th>3</th>\n",
       "      <td>1</td>\n",
       "      <td>0.000000</td>\n",
       "      <td>0.538825</td>\n",
       "      <td>0.00</td>\n",
       "      <td>0.5</td>\n",
       "      <td>0.196344</td>\n",
       "      <td>0.724230</td>\n",
       "      <td>0.235606</td>\n",
       "      <td>0.288764</td>\n",
       "      <td>0.805110</td>\n",
       "      <td>...</td>\n",
       "      <td>0</td>\n",
       "      <td>0</td>\n",
       "      <td>0</td>\n",
       "      <td>0</td>\n",
       "      <td>0</td>\n",
       "      <td>0</td>\n",
       "      <td>0</td>\n",
       "      <td>0</td>\n",
       "      <td>0</td>\n",
       "      <td>0</td>\n",
       "    </tr>\n",
       "    <tr>\n",
       "      <th>4</th>\n",
       "      <td>0</td>\n",
       "      <td>0.100000</td>\n",
       "      <td>0.517794</td>\n",
       "      <td>0.00</td>\n",
       "      <td>0.0</td>\n",
       "      <td>0.494734</td>\n",
       "      <td>0.781422</td>\n",
       "      <td>0.154361</td>\n",
       "      <td>0.303809</td>\n",
       "      <td>0.812646</td>\n",
       "      <td>...</td>\n",
       "      <td>0</td>\n",
       "      <td>0</td>\n",
       "      <td>0</td>\n",
       "      <td>0</td>\n",
       "      <td>0</td>\n",
       "      <td>0</td>\n",
       "      <td>0</td>\n",
       "      <td>0</td>\n",
       "      <td>0</td>\n",
       "      <td>0</td>\n",
       "    </tr>\n",
       "  </tbody>\n",
       "</table>\n",
       "<p>5 rows × 1777 columns</p>\n",
       "</div>"
      ],
      "text/plain": [
       "   Activity        D1        D2    D3   D4        D5        D6        D7  \\\n",
       "0         1  0.000000  0.497009  0.10  0.0  0.132956  0.678031  0.273166   \n",
       "1         1  0.366667  0.606291  0.05  0.0  0.111209  0.803455  0.106105   \n",
       "2         1  0.033300  0.480124  0.00  0.0  0.209791  0.610350  0.356453   \n",
       "3         1  0.000000  0.538825  0.00  0.5  0.196344  0.724230  0.235606   \n",
       "4         0  0.100000  0.517794  0.00  0.0  0.494734  0.781422  0.154361   \n",
       "\n",
       "         D8        D9  ...  D1767  D1768  D1769  D1770  D1771  D1772  D1773  \\\n",
       "0  0.585445  0.743663  ...      0      0      0      0      0      0      0   \n",
       "1  0.411754  0.836582  ...      1      1      1      1      0      1      0   \n",
       "2  0.517720  0.679051  ...      0      0      0      0      0      0      0   \n",
       "3  0.288764  0.805110  ...      0      0      0      0      0      0      0   \n",
       "4  0.303809  0.812646  ...      0      0      0      0      0      0      0   \n",
       "\n",
       "   D1774  D1775  D1776  \n",
       "0      0      0      0  \n",
       "1      0      1      0  \n",
       "2      0      0      0  \n",
       "3      0      0      0  \n",
       "4      0      0      0  \n",
       "\n",
       "[5 rows x 1777 columns]"
      ]
     },
     "execution_count": 2,
     "metadata": {},
     "output_type": "execute_result"
    }
   ],
   "source": [
    "df = pd.read_csv(r'data\\_train_sem09 (1).csv')\n",
    "df.head()"
   ]
  },
  {
   "cell_type": "code",
   "execution_count": 3,
   "metadata": {},
   "outputs": [
    {
     "data": {
      "text/plain": [
       "(3751, 1777)"
      ]
     },
     "execution_count": 3,
     "metadata": {},
     "output_type": "execute_result"
    }
   ],
   "source": [
    "df.shape"
   ]
  },
  {
   "cell_type": "code",
   "execution_count": 4,
   "metadata": {},
   "outputs": [],
   "source": [
    "# задаем имя целевого признака\n",
    "target = 'Activity'"
   ]
  },
  {
   "cell_type": "code",
   "execution_count": 5,
   "metadata": {},
   "outputs": [
    {
     "data": {
      "text/plain": [
       "1    0.542255\n",
       "0    0.457745\n",
       "Name: Activity, dtype: float64"
      ]
     },
     "metadata": {},
     "output_type": "display_data"
    },
    {
     "data": {
      "image/png": "[encoded data removed]",
      "text/plain": [
       "<Figure size 432x288 with 1 Axes>"
      ]
     },
     "metadata": {
      "needs_background": "light"
     },
     "output_type": "display_data"
    }
   ],
   "source": [
    "# проверим сбалансированность данных\n",
    "display(df[target].value_counts(normalize=True))\n",
    "sns.countplot(data=df, x=target);"
   ]
  },
  {
   "cell_type": "markdown",
   "metadata": {},
   "source": [
    "Можно сказать, что выборка сбалансирована, но на всякий случай будем использовать стратификацию в сплите на тренировочную и тестовую выборки"
   ]
  },
  {
   "cell_type": "code",
   "execution_count": 6,
   "metadata": {},
   "outputs": [],
   "source": [
    "# разделяем целевой признак от других наблюдений\n",
    "X = df.drop([target], axis = 1)\n",
    "y = df[target]"
   ]
  },
  {
   "cell_type": "code",
   "execution_count": 7,
   "metadata": {},
   "outputs": [],
   "source": [
    "# создаем сплит на тренировочную и тестовую выборки\n",
    "X_train, X_test, y_train, y_test = train_test_split(X, y, stratify=y, random_state = 42, test_size = 0.2)"
   ]
  },
  {
   "cell_type": "markdown",
   "metadata": {},
   "source": [
    "3. ОПТИМИЗАЦИЯ ГИПЕРПАРАМЕТРОВ ДЛЯ ЛОГИСТИЧЕСКОЙ РЕГРЕССИИ"
   ]
  },
  {
   "cell_type": "markdown",
   "metadata": {},
   "source": [
    "3.1 ЛОГИСТИЧЕСКАЯ РЕГРЕССИЯ БЕЗ ОПТИМИЗАЦИИ"
   ]
  },
  {
   "cell_type": "code",
   "execution_count": 8,
   "metadata": {},
   "outputs": [
    {
     "name": "stdout",
     "output_type": "stream",
     "text": [
      "Значение метрики без оптимизации\n",
      "f1_score на тренировочном наборе: 0.89\n",
      "f1_score на тестовом наборе: 0.78\n"
     ]
    }
   ],
   "source": [
    "# Посмотрим на метрику без оптимизации\n",
    "\n",
    "log_reg = linear_model.LogisticRegression(max_iter = 1000)\n",
    "log_reg.fit(X_train, y_train)\n",
    "y_train_pred = log_reg.predict(X_train)\n",
    "y_test_pred = log_reg.predict(X_test)\n",
    "print('Значение метрики без оптимизации')\n",
    "print('f1_score на тренировочном наборе: {:.2f}'.format(metrics.f1_score(y_train, y_train_pred)))\n",
    "print('f1_score на тестовом наборе: {:.2f}'.format(metrics.f1_score(y_test, y_test_pred)))"
   ]
  },
  {
   "cell_type": "markdown",
   "metadata": {},
   "source": [
    "3.2 ЛОГИСТИЧЕСКАЯ РЕГРЕССИЯ С ОПТИМИЗАЦИЕЙ GRIDSEARCHCV"
   ]
  },
  {
   "cell_type": "code",
   "execution_count": 9,
   "metadata": {},
   "outputs": [
    {
     "name": "stdout",
     "output_type": "stream",
     "text": [
      "Wall time: 25min 12s\n",
      "Значение метрики с оптимизацией GridSearchCV\n",
      "f1_score на тренировочном наборе: 0.84\n",
      "f1_score на тестовом наборе: 0.78\n",
      "Наилучшие значения параметров: {'C': 0.3, 'penalty': 'l1', 'solver': 'liblinear'}\n"
     ]
    }
   ],
   "source": [
    "# Оптимизация GridSearchCV\n",
    "\n",
    "param_grid = [\n",
    "              {'penalty': ['l2', 'none'] , # тип регуляризации\n",
    "              'solver': ['lbfgs', 'sag'], # алгоритм оптимизации\n",
    "               'C': [0.01, 0.1, 0.3, 0.5, 0.7, 0.9, 1]}, # коэффициент 1/alpha (чем больше, тем меньше регуляриация)\n",
    "              \n",
    "              {'penalty': ['l1', 'l2'] ,\n",
    "              'solver': ['liblinear', 'saga'],\n",
    "               'C': [0.01, 0.1, 0.3, 0.5, 0.7, 0.9, 1]}\n",
    "]\n",
    "grid_search = GridSearchCV(\n",
    "    estimator=linear_model.LogisticRegression(random_state=42, max_iter=1000), \n",
    "    param_grid=param_grid, \n",
    "    cv=5, # количество кросс-фолдов\n",
    "    scoring='f1', # зададим сразу метрику f1\n",
    "    n_jobs = -1\n",
    ")\n",
    "%time grid_search.fit(X_train, y_train) # запускаем оптимизацию\n",
    "\n",
    "print('Значение метрики с оптимизацией GridSearchCV')\n",
    "print(\"f1_score на тренировочном наборе: {:.2f}\".format(grid_search.score(X_train, y_train)))\n",
    "print(\"f1_score на тестовом наборе: {:.2f}\".format(grid_search.score(X_test, y_test)))\n",
    "print(\"Наилучшие значения параметров: {}\".format(grid_search.best_params_))\n"
   ]
  },
  {
   "cell_type": "markdown",
   "metadata": {},
   "source": [
    "3.3 ЛОГИСТИЧЕСКАЯ РЕГРЕССИЯ С ОПТИМИЗАЦИЕЙ RANDOMIZEDSEARCHCV"
   ]
  },
  {
   "cell_type": "code",
   "execution_count": 10,
   "metadata": {},
   "outputs": [
    {
     "name": "stdout",
     "output_type": "stream",
     "text": [
      "Wall time: 2min 4s\n",
      "Значение метрики с оптимизацией GridSearchCV\n",
      "f1_score на тренировочном наборе: 0.84\n",
      "f1_score на тестовом наборе: 0.78\n",
      "Наилучшие значения параметров: {'solver': 'liblinear', 'penalty': 'l1', 'C': 0.3}\n"
     ]
    }
   ],
   "source": [
    "# Оптимизация RandomizedSearchCV\n",
    "\n",
    "param_grid = [\n",
    "              {'penalty': ['l2', 'none'] , # тип регуляризации\n",
    "              'solver': ['lbfgs', 'sag'], # алгоритм оптимизации\n",
    "               'C': [0.01, 0.1, 0.3, 0.5, 0.7, 0.9, 1]}, # коэффициент 1/alpha (чем больше, тем меньше регуляриация)\n",
    "              \n",
    "              {'penalty': ['l1', 'l2'] ,\n",
    "              'solver': ['liblinear', 'saga'],\n",
    "               'C': [0.01, 0.1, 0.3, 0.5, 0.7, 0.9, 1]}\n",
    "]\n",
    "\n",
    "random_search = RandomizedSearchCV(\n",
    "    estimator=linear_model.LogisticRegression(random_state=42, max_iter=1000), \n",
    "    param_distributions=param_grid, \n",
    "    cv=5, # количество кросс-фолдов\n",
    "    scoring='f1', # зададим сразу метрику f1\n",
    "    n_iter = 10, # в отличие от gridsearch задаем количество итераций (выборок параметров)\n",
    "    n_jobs = -1\n",
    ")              \n",
    "\n",
    "%time random_search.fit(X_train, y_train) # запускаем оптимизацию\n",
    "\n",
    "print('Значение метрики с оптимизацией RandomizedSearchCV')\n",
    "print(\"f1_score на тренировочном наборе: {:.2f}\".format(random_search.score(X_train, y_train)))\n",
    "print(\"f1_score на тестовом наборе: {:.2f}\".format(random_search.score(X_test, y_test)))\n",
    "print(\"Наилучшие значения параметров: {}\".format(random_search.best_params_))             "
   ]
  },
  {
   "cell_type": "markdown",
   "metadata": {},
   "source": [
    "3.3 ЛОГИСТИЧЕСКАЯ РЕГРЕССИЯ С ОПТИМИЗАЦИЕЙ HYPERPLOT"
   ]
  },
  {
   "cell_type": "code",
   "execution_count": 21,
   "metadata": {},
   "outputs": [
    {
     "name": "stdout",
     "output_type": "stream",
     "text": [
      "{'lr_C': 0.8955339629253539, 'lr_penalty': 'none', 'lr_solver': 'sag'}\n",
      "{'lr_C': 0.8748374337220912, 'lr_penalty': 'l2', 'lr_solver': 'liblinear'}        \n",
      "{'lr_C': 0.6558947661457027, 'lr_penalty': 'l2', 'lr_solver': 'lbfgs'}            \n",
      "{'lr_C': 0.6332080719932267, 'lr_penalty': 'l2', 'lr_solver': 'liblinear'}       \n",
      "{'lr_C': 0.35862068786791046, 'lr_penalty': 'none', 'lr_solver': 'sag'}          \n",
      "{'lr_C': 0.49774905851720797, 'lr_penalty': 'l2', 'lr_solver': 'saga'}           \n",
      "{'lr_C': 0.17357224775694025, 'lr_penalty': 'l2', 'lr_solver': 'saga'}           \n",
      "{'lr_C': 0.7732321956643607, 'lr_penalty': 'none', 'lr_solver': 'lbfgs'}         \n",
      "{'lr_C': 0.1486700869997656, 'lr_penalty': 'l2', 'lr_solver': 'sag'}             \n",
      "{'lr_C': 0.49149815828572563, 'lr_penalty': 'l2', 'lr_solver': 'liblinear'}      \n",
      "100%|██████████| 10/10 [10:37<00:00, 63.79s/trial, best loss: -0.7828415027113358]\n",
      "Наилучшие значения гиперпараметров {'lr_C': 0.17357224775694025, 'lr_penalty': 'l2', 'lr_solver': 'saga'}\n",
      "Wall time: 10min 37s\n"
     ]
    }
   ],
   "source": [
    "%%time\n",
    "# Оптимизация hyperopt\n",
    "\n",
    "# Задаем пространство поиска из двух вариантов оптимизатора в зависимости от возможных опций регуляризации\n",
    "search_space = hp.choice('variant', [{\n",
    "                'lr_penalty' : hp.choice(label='penalty_l2', options=['l2', 'none']),\n",
    "                'lr_solver' : hp.choice(label='solver_l2', options=['lbfgs', 'sag']),\n",
    "                'lr_C' : hp.uniform(label='C_l2', low=0.1, high=1)\n",
    "                },\n",
    "                {\n",
    "                'lr_penalty' : hp.choice(label='penalty_l1', options=['l2', 'l1']),\n",
    "                'lr_solver' : hp.choice(label='solver_l1', options=['liblinear', 'saga']),\n",
    "                'lr_C' : hp.uniform(label='C_l1', low=0.1, high=1)   \n",
    "                    \n",
    "                }])\n",
    "\n",
    "# Задаем функцию расчета метрики, которую необходимо минимизировать\n",
    "def hyperopt_lr(params, cv=5, X=X_train, y=y_train, random_state=42):\n",
    "    print(params)\n",
    "    params = {'penalty' : params['lr_penalty'],\n",
    "              'solver' : params['lr_solver'],\n",
    "              'C': params['lr_C']             \n",
    "              }\n",
    "          \n",
    "    model = linear_model.LogisticRegression(**params, random_state=random_state, max_iter=1000)\n",
    "    # обучаем модель и считаем метрику на кросс-валидации\n",
    "    score = cross_val_score(model, X, y, cv=cv, scoring=\"f1\", n_jobs=-1).mean()\n",
    "    # метрику необходимо минимизировать, поэтому ставим знак минус\n",
    "    return -score\n",
    "\n",
    "\n",
    "# начинаем подбор гиперпараметров\n",
    "trials = Trials() # используется для логирования результатов\n",
    "\n",
    "best=fmin(hyperopt_lr, # наша функция \n",
    "          space=search_space, # пространство гиперпараметров\n",
    "          algo=tpe.suggest, # алгоритм оптимизации, установлен по умолчанию, задавать необязательно\n",
    "          max_evals=10, # максимальное количество итераций\n",
    "          trials=trials, # логирование результатов\n",
    "          rstate=np.random.default_rng(42)# фиксируем для повторяемости результата\n",
    "         )\n",
    "\n",
    "print(\"Наилучшие значения гиперпараметров {}\".format(space_eval(search_space, best)))"
   ]
  },
  {
   "cell_type": "code",
   "execution_count": 22,
   "metadata": {},
   "outputs": [
    {
     "name": "stdout",
     "output_type": "stream",
     "text": [
      "Значение метрики с оптимизацией HyperOpt\n",
      "f1_score на тренировочном наборе: 0.86\n",
      "f1_score на тестовом наборе: 0.78\n"
     ]
    }
   ],
   "source": [
    "# рассчитаем точность для тестовой выборки\n",
    "\n",
    "model = linear_model.LogisticRegression(\n",
    "    solver = space_eval(search_space, best)['lr_solver'],\n",
    "    penalty =  space_eval(search_space, best)['lr_penalty'],\n",
    "    C = space_eval(search_space, best)['lr_C'],\n",
    "    random_state=42,\n",
    "    max_iter=1000)\n",
    "\n",
    "model.fit(X_train, y_train) # обучаем модель\n",
    "\n",
    "print('Значение метрики с оптимизацией HyperOpt')\n",
    "y_train_pred = model.predict(X_train)\n",
    "y_test_pred = model.predict(X_test)\n",
    "print(\"f1_score на тренировочном наборе: {:.2f}\".format(metrics.f1_score(y_train, y_train_pred)))\n",
    "print(\"f1_score на тестовом наборе: {:.2f}\".format(metrics.f1_score(y_test, y_test_pred)))    "
   ]
  },
  {
   "cell_type": "markdown",
   "metadata": {},
   "source": [
    "3.4 ЛОГИСТИЧЕСКАЯ РЕГРЕССИЯ С ОПТИМИЗАЦИЕЙ OPTUNA"
   ]
  },
  {
   "cell_type": "code",
   "execution_count": 30,
   "metadata": {},
   "outputs": [
    {
     "name": "stderr",
     "output_type": "stream",
     "text": [
      "\u001b[32m[I 2022-09-15 23:55:25,188]\u001b[0m A new study created in memory with name: Logistic Regression\u001b[0m\n",
      "\u001b[32m[I 2022-09-15 23:57:04,271]\u001b[0m Trial 0 finished with value: 0.777611123141015 and parameters: {'solvers': 'sag', 'penalties1': 'l2', 'Cs': 0.3032391024163998}. Best is trial 0 with value: 0.777611123141015.\u001b[0m\n",
      "\u001b[32m[I 2022-09-15 23:57:07,034]\u001b[0m Trial 1 finished with value: 0.7881100496695017 and parameters: {'solvers': 'liblinear', 'penalties2': 'l1', 'Cs': 0.3811805129587813}. Best is trial 1 with value: 0.7881100496695017.\u001b[0m\n",
      "\u001b[32m[I 2022-09-15 23:58:06,476]\u001b[0m Trial 2 finished with value: 0.7832968499950418 and parameters: {'solvers': 'saga', 'penalties2': 'l2', 'Cs': 0.14615474875072015}. Best is trial 1 with value: 0.7881100496695017.\u001b[0m\n",
      "\u001b[32m[I 2022-09-15 23:58:16,791]\u001b[0m Trial 3 finished with value: 0.7761074144915423 and parameters: {'solvers': 'lbfgs', 'penalties1': 'l2', 'Cs': 0.8726804482260719}. Best is trial 1 with value: 0.7881100496695017.\u001b[0m\n",
      "\u001b[32m[I 2022-09-15 23:59:30,665]\u001b[0m Trial 4 finished with value: 0.7836253976048815 and parameters: {'solvers': 'sag', 'penalties1': 'l2', 'Cs': 0.13575785492632228}. Best is trial 1 with value: 0.7881100496695017.\u001b[0m\n",
      "\u001b[32m[I 2022-09-15 23:59:32,700]\u001b[0m Trial 5 finished with value: 0.7833126251924496 and parameters: {'solvers': 'liblinear', 'penalties2': 'l2', 'Cs': 0.18529109258631832}. Best is trial 1 with value: 0.7881100496695017.\u001b[0m\n",
      "\u001b[32m[I 2022-09-16 00:01:36,430]\u001b[0m Trial 6 finished with value: 0.7920552447902984 and parameters: {'solvers': 'saga', 'penalties2': 'l1', 'Cs': 0.153009693168219}. Best is trial 6 with value: 0.7920552447902984.\u001b[0m\n",
      "\u001b[32m[I 2022-09-16 00:02:55,039]\u001b[0m Trial 7 finished with value: 0.7765143388392008 and parameters: {'solvers': 'sag', 'penalties1': 'l2', 'Cs': 0.8299942444633304}. Best is trial 6 with value: 0.7920552447902984.\u001b[0m\n",
      "\u001b[32m[I 2022-09-16 00:02:57,631]\u001b[0m Trial 8 finished with value: 0.7789763338842143 and parameters: {'solvers': 'liblinear', 'penalties2': 'l2', 'Cs': 0.6554904517584897}. Best is trial 6 with value: 0.7920552447902984.\u001b[0m\n",
      "\u001b[32m[I 2022-09-16 00:02:59,803]\u001b[0m Trial 9 finished with value: 0.7781263860107085 and parameters: {'solvers': 'liblinear', 'penalties2': 'l2', 'Cs': 0.29437926721617563}. Best is trial 6 with value: 0.7920552447902984.\u001b[0m\n"
     ]
    },
    {
     "name": "stdout",
     "output_type": "stream",
     "text": [
      "Наилучшие значения гиперпараметров {'solvers': 'saga', 'penalties2': 'l1', 'Cs': 0.153009693168219}\n",
      "f1_score на обучающем наборе: 0.79\n",
      "Wall time: 7min 34s\n"
     ]
    }
   ],
   "source": [
    "%%time\n",
    "# Оптимизация optuna\n",
    "\n",
    "# Задаем функцию расчета метрики, которую необходимо минимизировать/максимизировать\n",
    "def optuna_lr(trial):\n",
    "    # задаем пространства поиска гиперпараметров\n",
    "    solvers = trial.suggest_categorical('solvers', ['lbfgs', 'sag', 'liblinear', 'saga'])\n",
    "    if solvers in ['lbfgs', 'sag']:\n",
    "        penalties = trial.suggest_categorical('penalties1', ['l2', 'none'])\n",
    "    else:\n",
    "        penalties = trial.suggest_categorical('penalties2', ['l2', 'l1'])\n",
    "    Сs = trial.suggest_float('Cs', 0.1, 1)\n",
    "    \n",
    "  \n",
    "    # создаем модель\n",
    "    model = linear_model.LogisticRegression(solver=solvers,\n",
    "                                          penalty=penalties,\n",
    "                                          C=Сs,\n",
    "                                          random_state=42,\n",
    "                                          max_iter=1000)\n",
    "    # обучаем модель и считаем метрику на кросс-валидации\n",
    "    score = cross_val_score(model, X_train, y_train, cv=5, scoring=\"f1\", n_jobs=-1).mean()\n",
    "    return score\n",
    "\n",
    "# cоздаем объект исследования\n",
    "study = optuna.create_study(study_name=\"Logistic Regression\", direction=\"maximize\")\n",
    "# ищем лучшую комбинацию гиперпараметров n_trials раз\n",
    "study.optimize(optuna_lr, n_trials=10)\n",
    "\n",
    "# выводим результаты на обучающей выборке\n",
    "print(\"Наилучшие значения гиперпараметров {}\".format(study.best_params))\n",
    "print(\"f1_score на обучающем наборе: {:.2f}\".format(study.best_value))"
   ]
  },
  {
   "cell_type": "code",
   "execution_count": 35,
   "metadata": {},
   "outputs": [
    {
     "name": "stdout",
     "output_type": "stream",
     "text": [
      "Значение метрики с оптимизацией Optuna\n",
      "f1_score на тренировочном наборе: 0.82\n",
      "f1_score на тестовом наборе: 0.77\n"
     ]
    }
   ],
   "source": [
    "# рассчитаем точность для тестовой выборки\n",
    "\n",
    "if 'penalties1' in study.best_params.keys():\n",
    "    penalty = study.best_params['penalties1']\n",
    "else:\n",
    "    penalty = study.best_params['penalties2']\n",
    "\n",
    "model = linear_model.LogisticRegression(\n",
    "    solver = study.best_params['solvers'],\n",
    "    penalty =  penalty,\n",
    "    C = study.best_params['Cs'],\n",
    "    random_state=42,\n",
    "    max_iter=1000)\n",
    "\n",
    "model.fit(X_train, y_train) # обучаем модель\n",
    "\n",
    "print('Значение метрики с оптимизацией Optuna')\n",
    "y_train_pred = model.predict(X_train)\n",
    "y_test_pred = model.predict(X_test)\n",
    "print(\"f1_score на тренировочном наборе: {:.2f}\".format(metrics.f1_score(y_train, y_train_pred)))\n",
    "print(\"f1_score на тестовом наборе: {:.2f}\".format(metrics.f1_score(y_test, y_test_pred)))   "
   ]
  },
  {
   "cell_type": "markdown",
   "metadata": {},
   "source": [
    "4. ОПТИМИЗАЦИЯ ГИПЕРПАРАМЕТРОВ ДЛЯ СЛУЧАЙНОГО ЛЕСА"
   ]
  },
  {
   "cell_type": "markdown",
   "metadata": {},
   "source": [
    "4.1 СЛУЧАЙНЫЙ ЛЕС БЕЗ ОПТИМИЗАЦИИ"
   ]
  },
  {
   "cell_type": "code",
   "execution_count": 38,
   "metadata": {},
   "outputs": [
    {
     "name": "stdout",
     "output_type": "stream",
     "text": [
      "Значение метрики без оптимизации\n",
      "f1_score на тренировочном наборе: 1.00\n",
      "f1_score на тестовом наборе: 0.80\n"
     ]
    }
   ],
   "source": [
    "# Посмотрим на метрику без оптимизации\n",
    "\n",
    "rf = ensemble.RandomForestClassifier(random_state=42)\n",
    "\n",
    "rf.fit(X_train, y_train)\n",
    "y_train_pred = rf.predict(X_train)\n",
    "y_test_pred = rf.predict(X_test)\n",
    "print('Значение метрики без оптимизации')\n",
    "print('f1_score на тренировочном наборе: {:.2f}'.format(metrics.f1_score(y_train, y_train_pred)))\n",
    "print('f1_score на тестовом наборе: {:.2f}'.format(metrics.f1_score(y_test, y_test_pred)))\n"
   ]
  },
  {
   "cell_type": "markdown",
   "metadata": {},
   "source": [
    "4.2 СЛУЧАЙНЫЙ ЛЕС С ОПТИМИЗАЦИЕЙ GRIDSEARCHCV"
   ]
  },
  {
   "cell_type": "code",
   "execution_count": 46,
   "metadata": {},
   "outputs": [
    {
     "name": "stdout",
     "output_type": "stream",
     "text": [
      "Wall time: 4min 40s\n",
      "Значение метрики с оптимизацией GridSearchCV\n",
      "f1_score на тренировочном наборе: 0.95\n",
      "f1_score на тестовом наборе: 0.80\n",
      "Наилучшие значения параметров: {'max_depth': 20, 'min_samples_leaf': 5, 'n_estimators': 175}\n"
     ]
    }
   ],
   "source": [
    "# Оптимизация GridSearchCV\n",
    "\n",
    "param_grid = {\n",
    "            'n_estimators': list(range(50, 200, 25)),\n",
    "            'min_samples_leaf': [5,7],\n",
    "            'max_depth': list(np.linspace(20, 40, 5, dtype=int))\n",
    "}\n",
    "grid_search = GridSearchCV(\n",
    "    estimator=ensemble.RandomForestClassifier(random_state=42), \n",
    "    param_grid=param_grid, \n",
    "    cv=5, # количество кросс-фолдов\n",
    "    scoring='f1', # зададим сразу метрику f1\n",
    "    n_jobs = -1\n",
    ")\n",
    "%time grid_search.fit(X_train, y_train) # запускаем оптимизацию\n",
    "\n",
    "print('Значение метрики с оптимизацией GridSearchCV')\n",
    "print(\"f1_score на тренировочном наборе: {:.2f}\".format(grid_search.score(X_train, y_train)))\n",
    "print(\"f1_score на тестовом наборе: {:.2f}\".format(grid_search.score(X_test, y_test)))\n",
    "print(\"Наилучшие значения параметров: {}\".format(grid_search.best_params_))\n"
   ]
  },
  {
   "cell_type": "markdown",
   "metadata": {},
   "source": [
    "4.3 СЛУЧАЙНЫЙ ЛЕС С ОПТИМИЗАЦИЕЙ RANDOMIZEDSEARCHCV"
   ]
  },
  {
   "cell_type": "code",
   "execution_count": 48,
   "metadata": {},
   "outputs": [
    {
     "name": "stdout",
     "output_type": "stream",
     "text": [
      "Wall time: 49.9 s\n",
      "Значение метрики с оптимизацией RandomizedSearchCV\n",
      "f1_score на тренировочном наборе: 0.94\n",
      "f1_score на тестовом наборе: 0.80\n",
      "Наилучшие значения параметров: {'n_estimators': 150, 'min_samples_leaf': 5, 'max_depth': 30}\n"
     ]
    }
   ],
   "source": [
    "# Оптимизация RandomizedSearchCV\n",
    "\n",
    "param_grid = param_grid = {\n",
    "            'n_estimators': list(range(50, 200, 25)),\n",
    "            'min_samples_leaf': [5,7],\n",
    "            'max_depth': list(np.linspace(20, 40, 5, dtype=int))\n",
    "}\n",
    "\n",
    "random_search = RandomizedSearchCV(\n",
    "    estimator=ensemble.RandomForestClassifier(random_state=42), \n",
    "    param_distributions=param_grid, \n",
    "    cv=5, # количество кросс-фолдов\n",
    "    scoring='f1', # зададим сразу метрику f1\n",
    "    n_iter = 10, # в отличие от gridsearch задаем количество итераций (выборок параметров)\n",
    "    n_jobs = -1\n",
    ")              \n",
    "\n",
    "%time random_search.fit(X_train, y_train) # запускаем оптимизацию\n",
    "\n",
    "print('Значение метрики с оптимизацией RandomizedSearchCV')\n",
    "print(\"f1_score на тренировочном наборе: {:.2f}\".format(random_search.score(X_train, y_train)))\n",
    "print(\"f1_score на тестовом наборе: {:.2f}\".format(random_search.score(X_test, y_test)))\n",
    "print(\"Наилучшие значения параметров: {}\".format(random_search.best_params_))         "
   ]
  },
  {
   "cell_type": "markdown",
   "metadata": {},
   "source": [
    "4.3 СЛУЧАЙНЫЙ ЛЕС С ОПТИМИЗАЦИЕЙ HYPEROPT"
   ]
  },
  {
   "cell_type": "code",
   "execution_count": 55,
   "metadata": {},
   "outputs": [
    {
     "name": "stdout",
     "output_type": "stream",
     "text": [
      "100%|██████████| 40/40 [04:36<00:00,  6.92s/trial, best loss: -0.8131239122232721]\n",
      "Наилучшие значения гиперпараметров {'max_depth': 28.0, 'min_samples_leaf': 6.0, 'n_estimators': 199.0}\n",
      "Wall time: 4min 36s\n"
     ]
    }
   ],
   "source": [
    "%%time\n",
    "# Оптимизация hyperopt\n",
    "\n",
    "# Задаем пространство поиска \n",
    "search_space = {'n_estimators': hp.quniform('n_estimators', 50, 200, 1),\n",
    "       'max_depth' : hp.quniform('max_depth', 20, 40, 1),\n",
    "       'min_samples_leaf': hp.quniform('min_samples_leaf', 5, 10, 1)\n",
    "      }\n",
    "\n",
    "# Задаем функцию расчета метрики, которую необходимо минимизировать\n",
    "def hyperopt_rf(params, cv=5, X=X_train, y=y_train, random_state=42):\n",
    "    \n",
    "    params = {'n_estimators' : int(params['n_estimators']),\n",
    "              'max_depth' : int(params['max_depth']),\n",
    "              'min_samples_leaf': int(params['min_samples_leaf'])             \n",
    "              }\n",
    "    \n",
    "    model = ensemble.RandomForestClassifier(**params, random_state=42)\n",
    "    # обучаем модель и считаем метрику на кросс-валидации\n",
    "    score = cross_val_score(model, X, y, cv=cv, scoring=\"f1\", n_jobs=-1).mean()\n",
    "    # метрику необходимо минимизировать, поэтому ставим знак минус\n",
    "    return -score\n",
    "\n",
    "\n",
    "# начинаем подбор гиперпараметров\n",
    "trials = Trials() # используется для логирования результатов\n",
    "\n",
    "best=fmin(hyperopt_rf, # наша функция \n",
    "          space=search_space, # пространство гиперпараметров\n",
    "          algo=tpe.suggest, # алгоритм оптимизации, установлен по умолчанию, задавать необязательно\n",
    "          max_evals=40, # максимальное количество итераций\n",
    "          trials=trials, # логирование результатов\n",
    "          rstate=np.random.default_rng(42)# фиксируем для повторяемости результата\n",
    "         )\n",
    "\n",
    "print(\"Наилучшие значения гиперпараметров {}\".format(space_eval(search_space, best)))"
   ]
  },
  {
   "cell_type": "code",
   "execution_count": 56,
   "metadata": {},
   "outputs": [
    {
     "name": "stdout",
     "output_type": "stream",
     "text": [
      "Значение метрики с оптимизацией HyperOpt\n",
      "f1_score на тренировочном наборе: 0.93\n",
      "f1_score на тестовом наборе: 0.80\n"
     ]
    }
   ],
   "source": [
    "# рассчитаем точность для тестовой выборки\n",
    "\n",
    "model = ensemble.RandomForestClassifier(   \n",
    "    n_estimators = int(best['n_estimators']),\n",
    "    max_depth = int(best['max_depth']),\n",
    "    min_samples_leaf = int(best['min_samples_leaf']),\n",
    "    random_state=42)\n",
    "\n",
    "model.fit(X_train, y_train) # обучаем модель\n",
    "\n",
    "print('Значение метрики с оптимизацией HyperOpt')\n",
    "y_train_pred = model.predict(X_train)\n",
    "y_test_pred = model.predict(X_test)\n",
    "print(\"f1_score на тренировочном наборе: {:.2f}\".format(metrics.f1_score(y_train, y_train_pred)))\n",
    "print(\"f1_score на тестовом наборе: {:.2f}\".format(metrics.f1_score(y_test, y_test_pred)))    "
   ]
  },
  {
   "cell_type": "markdown",
   "metadata": {},
   "source": [
    "4.4 СЛУЧАЙНЫЙ ЛЕС С ОПТИМИЗАЦИЕЙ OPTUNA"
   ]
  },
  {
   "cell_type": "code",
   "execution_count": 59,
   "metadata": {},
   "outputs": [
    {
     "name": "stdout",
     "output_type": "stream",
     "text": [
      "Наилучшие значения гиперпараметров {'n_estimators': 167, 'max_depth': 23, 'min_samples_leaf': 6}\n",
      "f1_score на обучающем наборе: 0.81\n",
      "Wall time: 4min 19s\n"
     ]
    }
   ],
   "source": [
    "%%time\n",
    "# Оптимизация optuna\n",
    "optuna.logging.set_verbosity(optuna.logging.WARNING)\n",
    "\n",
    "# Задаем функцию расчета метрики, которую необходимо минимизировать/максимизировать\n",
    "def optuna_rf(trial):\n",
    "    # задаем пространства поиска гиперпараметров\n",
    "    n_estimators = trial.suggest_int('n_estimators', 50, 200, 1)\n",
    "    max_depth = trial.suggest_int('max_depth', 20, 40, 1)\n",
    "    min_samples_leaf = trial.suggest_int('min_samples_leaf', 5, 10, 1)\n",
    "    \n",
    "  \n",
    "    # создаем модель\n",
    "    model = ensemble.RandomForestClassifier(n_estimators=n_estimators,\n",
    "                                          max_depth=max_depth,\n",
    "                                          min_samples_leaf=min_samples_leaf,\n",
    "                                          random_state=42)\n",
    "    # обучаем модель и считаем метрику на кросс-валидации\n",
    "    score = cross_val_score(model, X_train, y_train, cv=5, scoring=\"f1\", n_jobs=-1).mean()\n",
    "    return score\n",
    "\n",
    "# cоздаем объект исследования\n",
    "study = optuna.create_study(study_name=\"Random Forest\", direction=\"maximize\")\n",
    "# ищем лучшую комбинацию гиперпараметров n_trials раз\n",
    "study.optimize(optuna_rf, n_trials=40)\n",
    "\n",
    "# выводим результаты на обучающей выборке\n",
    "print(\"Наилучшие значения гиперпараметров {}\".format(study.best_params))\n",
    "print(\"f1_score на обучающем наборе: {:.2f}\".format(study.best_value))"
   ]
  },
  {
   "cell_type": "code",
   "execution_count": 61,
   "metadata": {},
   "outputs": [
    {
     "name": "stdout",
     "output_type": "stream",
     "text": [
      "Значение метрики с оптимизацией Optuna\n",
      "f1_score на тренировочном наборе: 0.93\n",
      "f1_score на тестовом наборе: 0.79\n"
     ]
    }
   ],
   "source": [
    "# рассчитаем точность для тестовой выборки\n",
    "\n",
    "model = ensemble.RandomForestClassifier(   \n",
    "    **study.best_params,\n",
    "    random_state=42)\n",
    "\n",
    "model.fit(X_train, y_train) # обучаем модель\n",
    "\n",
    "print('Значение метрики с оптимизацией Optuna')\n",
    "y_train_pred = model.predict(X_train)\n",
    "y_test_pred = model.predict(X_test)\n",
    "print(\"f1_score на тренировочном наборе: {:.2f}\".format(metrics.f1_score(y_train, y_train_pred)))\n",
    "print(\"f1_score на тестовом наборе: {:.2f}\".format(metrics.f1_score(y_test, y_test_pred)))    "
   ]
  },
  {
   "cell_type": "markdown",
   "metadata": {},
   "source": [
    "****\n",
    "ВЫВОД\n",
    "Оптимизация гиперпараметров не показала прироста метрики f1 для тестовой выборки для моделей логистический регрессии и случайного леса. Максимальное значение метрики (0.80) достигается во всех моделях случайного леса, за исключением оптимизированного Optuna. Optuna показал результат немного ниже (0.79).  \n",
    "Логистическая регрессия предсказывала класс с точностью несколько хуже (f1 = 0.78), при этом Optuna также показала результат ниже остальных оптимизаторов (0.77).  \n",
    "Минимальное время оптимизации было у RandomizeSearch для случайного леса (чуть менеьше минуты), максимальное (более 20 минут) у GridSearch.  \n",
    "Модели случайного леса были более склонны к переобучению, показывая более высокие значения метрики на обучающей выборке."
   ]
  }
 ],
 "metadata": {
  "kernelspec": {
   "display_name": "Python 3.7.3 ('base')",
   "language": "python",
   "name": "python3"
  },
  "language_info": {
   "codemirror_mode": {
    "name": "ipython",
    "version": 3
   },
   "file_extension": ".py",
   "mimetype": "text/x-python",
   "name": "python",
   "nbconvert_exporter": "python",
   "pygments_lexer": "ipython3",
   "version": "3.7.3"
  },
  "orig_nbformat": 4,
  "vscode": {
   "interpreter": {
    "hash": "39be8851533e0cf48af5abc22579afee3ff46e45b8f814c877a2933947d05d62"
   }
  }
 },
 "nbformat": 4,
 "nbformat_minor": 2
}
